{
 "cells": [
  {
   "cell_type": "markdown",
   "metadata": {},
   "source": [
    "#Aula 08\n",
    "\n",
    "**Referência de Leitura:**\n",
    "1. Magalhães e Lima (7ª. Edição): pág. 49 a 68 - Probabilidades\n",
    "\n",
    "**Hoje:**\n",
    "1. Conceito de Probabilidade\n",
    "4. Probabilidade Condicional\n",
    "3. Independência de eventos\n",
    "5. Teorema de Bayes. Simulação do problema de Monty Hall\n",
    "\n",
    "**Próxima aula:**\n",
    "1. Magalhães e Lima (7ª. Edição): pág. 69 a 104 - Variáveis aleatórias discretas"
   ]
  },
  {
   "cell_type": "code",
   "execution_count": 3,
   "metadata": {
    "collapsed": true
   },
   "outputs": [],
   "source": [
    "%matplotlib inline\n",
    "\n",
    "#Bibliotecas necessárias\n",
    "from numpy.random import shuffle, randint\n",
    "import pandas as pd"
   ]
  },
  {
   "cell_type": "markdown",
   "metadata": {},
   "source": [
    "1) Monte a simulação de 1000 jogadas de um dado idôneo de 6 faces. Faça o histograma (normalizado) da frequência.\n",
    "\n",
    "    a) Olhando o histograma, o que pode se dizer sobre as probabilidade de cada face?\n",
    "    \n",
    "    b) Discorra sobre o porque da probabilidade não ser exatamente igual à teórica."
   ]
  },
  {
   "cell_type": "code",
   "execution_count": 19,
   "metadata": {
    "collapsed": false
   },
   "outputs": [
    {
     "name": "stdout",
     "output_type": "stream",
     "text": [
      "16.7\n",
      "17.0\n",
      "15.8\n",
      "17.599999999999998\n",
      "17.7\n",
      "15.2\n",
      "1000\n"
     ]
    }
   ],
   "source": [
    "\n",
    "lista=[]\n",
    "x=0\n",
    "a=0\n",
    "b=0\n",
    "c=0\n",
    "d=0\n",
    "e=0\n",
    "f=0\n",
    "\n",
    "while x<1000:\n",
    "    L=['1','2','3','4','5','6']\n",
    "    shuffle(L)\n",
    "    if L[0]=='1':\n",
    "        lista.append(L[0])\n",
    "        a=a+1\n",
    "    elif L[0]=='2':        \n",
    "        lista.append(L[0])\n",
    "        b=b+1\n",
    "    elif L[0]==\"3\":\n",
    "        lista.append(L[0])\n",
    "        c=c+1\n",
    "    elif L[0]==\"4\":\n",
    "        lista.append(L[0])\n",
    "        d=d+1\n",
    "    elif L[0]==\"5\":\n",
    "        lista.append(L[0])\n",
    "        e=e+1\n",
    "    elif L[0]==\"6\":\n",
    "        lista.append(L[0])\n",
    "        f=f+1\n",
    "    x=x+1\n",
    "print((a/1000)*100)\n",
    "print((b/1000)*100)\n",
    "print((c/1000)*100)\n",
    "print((d/1000)*100)\n",
    "print((e/1000)*100)\n",
    "print((f/1000)*100)\n",
    "\n",
    "print(a+b+c+d+e+f)\n",
    "\n",
    "#print(lista)\n",
    "\n"
   ]
  },
  {
   "cell_type": "markdown",
   "metadata": {},
   "source": [
    "1)a) Através de uma análise das probabilidades acima, podemos inferir que as probablidades são relativamente parecidas. Temos que a probabilidade de cair um lado do dado é relativamente parecida com a probabilidade de cair outro lado."
   ]
  },
  {
   "cell_type": "markdown",
   "metadata": {},
   "source": [
    "1)b) A probabilidade real pode sim ser diferente da teórica, isso significa que um dado sendo jogado 1000 vezes pode ter um resultado diferente de 1/6 para cada lado do dado, como por exemplo cair 1000 vezes no lado 1. Por meio disso, podemos rodar o algoritmo uma série de vezes para ver os resultados diferentes."
   ]
  },
  {
   "cell_type": "markdown",
   "metadata": {},
   "source": [
    "2) Ampliando o espaço amostral para as possíveis jogadas de 2 dados, analise as seguintes situações:\n",
    "    \n",
    "    a) Jogando os dois dados ao mesmo tempo. Qual é a probabilidade de obter soma 7?\n",
    "    \n",
    "    b) Jogando um dado e depois o segundo dado. Qual é a probabilidade de obter soma 7 já sabendo o resultado do primeiro?"
   ]
  },
  {
   "cell_type": "markdown",
   "metadata": {
    "collapsed": true
   },
   "source": [
    "a) 1/6\n",
    "\n",
    "\n",
    "b) 1/6"
   ]
  },
  {
   "cell_type": "markdown",
   "metadata": {},
   "source": [
    "3) Simule 1000 vezes o problema de Monty Hall¹, usar o seguinte algoritmo:\n",
    "\n",
    "\n",
    "* Repetir 1000 vezes:\n",
    "    * crie uma lista com 2 cabras e um carro (simulando 3 portas).\n",
    "    * embaralhe a lista.\n",
    "    * Se o carro estiver na porta 2:\n",
    "        * Abra a porta 3 (apague o 3o item).\n",
    "    * Se o carro estiver na porta 3:\n",
    "        * Abra a porta 2 (apague o 2o item).\n",
    "    * Caso contrário sorteie uma porta (2 ou 3) para para abrir (apagar).\n",
    "    \n",
    "    * Se na porta restante houver o carro, acrescente um no contator.\n",
    "\n",
    "* Exibir quantas vezes em 1000, a porta restante tinha o carro.\n",
    "\n",
    "Compare o resultado numérico com o resultado analítico obtido via Teorema de Bayes.\n",
    "\n",
    "¹https://en.wikipedia.org/wiki/Monty_Hall_problem"
   ]
  },
  {
   "cell_type": "code",
   "execution_count": 5,
   "metadata": {
    "collapsed": false
   },
   "outputs": [
    {
     "name": "stdout",
     "output_type": "stream",
     "text": [
      "651\n"
     ]
    }
   ],
   "source": [
    "\n",
    "x=0\n",
    "i=0\n",
    "while x<1000:\n",
    "    L=['G','G','C']\n",
    "    shuffle(L)\n",
    "    if L[1]=='C':\n",
    "        del L[2]\n",
    "    elif L[2]=='C':        \n",
    "        del L[1]\n",
    "    elif L[0]==\"C\":\n",
    "        del L[randint(0,2)+1] \n",
    "    if L[1]=='C':\n",
    "        i=i+1     \n",
    "    x=x+1\n",
    "\n",
    "print(i)\n",
    "\n",
    "\n"
   ]
  },
  {
   "cell_type": "code",
   "execution_count": null,
   "metadata": {
    "collapsed": true
   },
   "outputs": [],
   "source": []
  }
 ],
 "metadata": {
  "anaconda-cloud": {},
  "kernelspec": {
   "display_name": "Python [Root]",
   "language": "python",
   "name": "Python [Root]"
  },
  "language_info": {
   "codemirror_mode": {
    "name": "ipython",
    "version": 3
   },
   "file_extension": ".py",
   "mimetype": "text/x-python",
   "name": "python",
   "nbconvert_exporter": "python",
   "pygments_lexer": "ipython3",
   "version": "3.5.2"
  }
 },
 "nbformat": 4,
 "nbformat_minor": 0
}
